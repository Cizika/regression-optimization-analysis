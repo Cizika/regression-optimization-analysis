{
 "cells": [
  {
   "cell_type": "markdown",
   "metadata": {},
   "source": [
    "# Problema de Otimização Não-Linear\n",
    "## Projeto da disciplina **SME5720 - Otimização Não-linear**\n",
    "### Estudo de caso da Regressão Linear"
   ]
  },
  {
   "cell_type": "markdown",
   "metadata": {},
   "source": [
    "## Membros\n",
    "\n",
    "* Eduardo Zaffari Monteiro - eduardozaffarimonteiro@usp.br - 12559490\n",
    "\n",
    "* Gustavo Silva de Oliveira - gustavo.oliveira03@usp.br - 12567231\n",
    "\n",
    "* Lucas Ivars Cadima Ciziks - luciziks@usp.br - 12559472\n",
    "\n",
    "* Pedro Henrique de Freitas Maçonetto - pedromaconetto@usp.br - 12675419"
   ]
  },
  {
   "cell_type": "markdown",
   "metadata": {},
   "source": [
    "## Introdução"
   ]
  },
  {
   "attachments": {},
   "cell_type": "markdown",
   "metadata": {},
   "source": [
    "Conforme definido por Montgomery (2021), *Regressão* é a metodologia responsável por estudar e compreender o **relacionamento estatístico** entre uma variável resposta (ou dependente) e variáveis preditoras (ou independentes). Esse método captura a correlação entre as variáveis em investigação e avalia se tal relação é estatisticamente significativa ou não. A técnica mais simples e comumente utilizada é a **Regressão Linear**, em que o relacionamento entre as variáveis é modelado de forma linear, procurando a reta ou plano que melhor se ajuste aos dados observados. O seguinte modelo com duas covariáveis ilustra a técnica:"
   ]
  },
  {
   "cell_type": "markdown",
   "metadata": {},
   "source": [
    "$$\n",
    "Y = \\beta_0 + \\beta_1 X_1 + \\beta_2 X_2 + \\varepsilon\n",
    "$$\n",
    "\n",
    "* $Y$: Variável Resposta ou Dependente;\n",
    "* $X_1$ e $X_2$: Variáveis Preditoras ou Independente;\n",
    "* $\\beta_0$: Parâmetro que representa o intercepto;\n",
    "* $\\beta_1$ e $\\beta_2$: Parâmetros cuja taxa de mudança quando as outras covariáveis são mantidas constate;\n",
    "* $\\varepsilon$: Erro Aleatório associado ao modelo; \n",
    "\n",
    "![Exemplo de Regressão](./Regressão.png \"Exemplo de Regressao\")"
   ]
  },
  {
   "attachments": {},
   "cell_type": "markdown",
   "metadata": {},
   "source": [
    "Desse modo, a regressão busca estimar os parâmetros do modelo proposto. Isso pode ser realizado de diversos modos, mas o método mais disseminado é o **Método dos Mínimos Quadrados** ou *Least-Squares*. Seu procedimento consiste em minimizar a soma dos erros ao quadrado, encontrando estimadores **não-viesados** para os parâmetros do modelo e com a **menor variância** dentre todos os estimadores não-viesados (Teorema de Gauss-Markov). Para o modelo de duas covariáveis, o problema é:\n",
    "\n",
    "$$\n",
    "\\min \\sum_{i=1}^{n} \\varepsilon_i^2 = \\sum_{i=1}^{n}(Y - \\beta_0-\\beta_1 X_1 - \\beta_2 X_2)^2\n",
    "$$\n",
    "\n",
    "Essa otimização pode ser resolvida de forma analítica, todavia, o interesse aqui é em observar e avaliar o comportamento dos algoritmos de otimização não-linear vistos durante a disciplina no contexto da regressão linear. Assim, é possível comparar os resultados encontrados pelos métodos implementados com os resultados analíticos. \n",
    "\n",
    "Como o problema se trata de uma **minimização irrestrita**, os algoritmos a serem utilizados funcionam gerando uma sequência de iterandos xk a partir de um ponto inicial x0 . Essa iteração se encerra quando a solução é encontrada com precisão suficiente ou não há mais como progredir. Nesse contexto, há dois tipos de estratégias para se decidir como movimentar do ponto $x_k$ para $x_{k+1}$: **Busca Linear** e **Regiões de Confiança**.\n",
    "\n",
    "Os algoritmos de busca linear calculam primeiramente a direção de procura, para assim encontrar, ao longo da direção, o tamanho do passo que minimiza a função de interesse e atinge o próximo $x_{k + 1}$. Já os métodos de região de confiança invertem a ordem: determinam a maior distância permitida entre os iterandos (isto é, o raio da região de confiança) e depois encontram a direção de iteração. Para resolver o problema de regressão, implementamos um método de busca linear, o Método de Newton, e um método de região de confiança, o **Método do Gradiente Conjugado**.\n"
   ]
  },
  {
   "cell_type": "markdown",
   "metadata": {},
   "source": [
    "## Modelagem do Problema"
   ]
  },
  {
   "attachments": {},
   "cell_type": "markdown",
   "metadata": {},
   "source": [
    "O objetivo da regressão é estimar os $p$ parâmetros $\\overrightarrow{{\\beta}} = [\\beta_0, \\beta_1, ... \\beta_{p-1}]$ que melhor ajustam o modelo aos dados observados. Nesse contexto, o método mais utilizado e poderoso é o **Mínimos Quadrados** ou **Least-Square**, cujo propósito é minimizar a soma quadrática dos erros ou ruídos gerados pelo modelo $S(\\overrightarrow{{\\beta}})$. Portanto, o problema da regressão é equivalente a resolver o seguinte processo de otimização não-linear:\n",
    "\n",
    "$$\n",
    "S(\\overrightarrow{{\\beta}}) = \\sum_{i=1}^{n} \\varepsilon_i^2 = \\sum_{i=1}^{n}(Y - \\beta_0-\\beta_1 X_1 - ... - \\beta_{p-1} X_{p-1})^2 = (\\overrightarrow{Y} - \\bm{X} \\overrightarrow{{\\beta}})^T (\\overrightarrow{Y} - \\bm{X} \\overrightarrow{{\\beta}})\n",
    "$$\n",
    "\n",
    "$$\n",
    "\\min{S(\\overrightarrow{{\\beta}})} = \\min\\sum_{i=1}^{n}(Y - \\beta_0-\\beta_1 X_1 - ... - \\beta_{p-1} X_{p-1})^2\n",
    "$$\n",
    "com\n",
    "* $\\overrightarrow{{\\beta}} \\in \\mathbb{R}^p$;\n",
    "* $S \\in \\mathbb{R}^p \\rightarrow \\mathbb{R}$ é uma função suave. "
   ]
  },
  {
   "cell_type": "markdown",
   "metadata": {},
   "source": [
    "Como o problema se trata de uma **Minimização Irrestrita**, podemos aplicar tanto os métodos de **Busca Linear** quanto os de **Região de Confiança** vistos no decorrer da disciplina: \n",
    "* Método da Máxima Descida;\n",
    "* Método de Newton;\n",
    "* Método de Newton modificado;\n",
    "* Método dos Gradientes Conjugados;\n",
    "* Método de Quase-Newton;\n",
    "* Método de Newton Truncado;\n",
    "* Ponto de Cauchy;\n",
    "* Método dogleg;\n",
    "\n",
    " Para resolvê-lo, implementamos dois métodos: o **Método de Newton** e o **Método do Gradiente Conjugado**."
   ]
  },
  {
   "cell_type": "markdown",
   "metadata": {},
   "source": [
    "## Implementação"
   ]
  },
  {
   "cell_type": "code",
   "execution_count": 1,
   "metadata": {},
   "outputs": [],
   "source": [
    "# Importando bibliotecas\n",
    "import numpy as np\n",
    "import pandas as pd\n",
    "import scipy\n",
    "from scipy import optimize"
   ]
  },
  {
   "cell_type": "markdown",
   "metadata": {},
   "source": [
    "### Funções Auxiliares"
   ]
  },
  {
   "cell_type": "code",
   "execution_count": 2,
   "metadata": {},
   "outputs": [],
   "source": [
    "# Função que transforma os dados do problema original em uma equação de Mínimos Quadrados\n",
    "def f_least_square(betas, x, y):\n",
    "  return y.T@y - 2*y.T@x@betas + betas.T@x.T@x@betas"
   ]
  },
  {
   "cell_type": "code",
   "execution_count": 3,
   "metadata": {},
   "outputs": [],
   "source": [
    "# Definindo gradiente da função\n",
    "def grad_f(betas, x, y):\n",
    "  return -2*x.T@y + 2 * x.T@x@betas"
   ]
  },
  {
   "cell_type": "code",
   "execution_count": 15,
   "metadata": {},
   "outputs": [],
   "source": [
    "# Definindo hessiana da função\n",
    "def hess_f(betas, x, y):\n",
    "  return (2)*(x.T@x)"
   ]
  },
  {
   "attachments": {},
   "cell_type": "markdown",
   "metadata": {},
   "source": [
    "### Método de Newton\n",
    "\n",
    "O método de Newton foi utilizado devido ao problema ser de natureza quadrática, neste caso específico, o método sempre encontra solução em uma iteração apenas, o que torna o método extremamente eficiente e torna desnecessário o cálculo do tamanho de passo '$a$', começaremos utilizando $a=1$, de forma a emular a solução do problema partindo de $1$ e reduzindo o tamanho do passo conforme necessário.\n",
    "Na implementação, foi utilizada uma precisão de $10^{-4}$ para considerarmos o gradiente da função igual a $0$, ou seja, para acharmos um ponto estacionário e portanto uma solução do problema."
   ]
  },
  {
   "cell_type": "code",
   "execution_count": 5,
   "metadata": {},
   "outputs": [],
   "source": [
    "## Definindo método de newton\n",
    "def newton_method(Xk, x, y):\n",
    "  i = 0   # interacao\n",
    "  a = 1   # tamanho do passo\n",
    "  while i < 5 and not(np.isclose(grad_f(Xk, x, y),np.zeros(len(grad_f(Xk, x, y))), atol=1e-04).all()):\n",
    "    p = np.linalg.inv(hess_f(x)) @ grad_f(Xk, x, y)\n",
    "    Xk = Xk - a * p\n",
    "    i += 1\n",
    "  return Xk, i"
   ]
  },
  {
   "attachments": {},
   "cell_type": "markdown",
   "metadata": {},
   "source": [
    "### Método dogleg"
   ]
  },
  {
   "cell_type": "code",
   "execution_count": 16,
   "metadata": {},
   "outputs": [],
   "source": [
    "# Método dogleg\n",
    "def dogleg(x0, x, y):\n",
    "    minimium = scipy.optimize.minimize(f_least_square, x0=x0, jac=grad_f, hess=hess_f, args=(x,y), method=\"dogleg\")\n",
    "    return minimium"
   ]
  },
  {
   "cell_type": "markdown",
   "metadata": {},
   "source": [
    "## Instâncias do Problema"
   ]
  },
  {
   "cell_type": "markdown",
   "metadata": {},
   "source": [
    "### Produção de uma Fábrica"
   ]
  },
  {
   "cell_type": "code",
   "execution_count": 7,
   "metadata": {},
   "outputs": [
    {
     "data": {
      "text/html": [
       "<div>\n",
       "<style scoped>\n",
       "    .dataframe tbody tr th:only-of-type {\n",
       "        vertical-align: middle;\n",
       "    }\n",
       "\n",
       "    .dataframe tbody tr th {\n",
       "        vertical-align: top;\n",
       "    }\n",
       "\n",
       "    .dataframe thead th {\n",
       "        text-align: right;\n",
       "    }\n",
       "</style>\n",
       "<table border=\"1\" class=\"dataframe\">\n",
       "  <thead>\n",
       "    <tr style=\"text-align: right;\">\n",
       "      <th></th>\n",
       "      <th>production</th>\n",
       "      <th>temperature</th>\n",
       "      <th>concentration</th>\n",
       "    </tr>\n",
       "  </thead>\n",
       "  <tbody>\n",
       "    <tr>\n",
       "      <th>0</th>\n",
       "      <td>180</td>\n",
       "      <td>80</td>\n",
       "      <td>10</td>\n",
       "    </tr>\n",
       "    <tr>\n",
       "      <th>1</th>\n",
       "      <td>203</td>\n",
       "      <td>100</td>\n",
       "      <td>10</td>\n",
       "    </tr>\n",
       "    <tr>\n",
       "      <th>2</th>\n",
       "      <td>222</td>\n",
       "      <td>120</td>\n",
       "      <td>10</td>\n",
       "    </tr>\n",
       "    <tr>\n",
       "      <th>3</th>\n",
       "      <td>234</td>\n",
       "      <td>140</td>\n",
       "      <td>10</td>\n",
       "    </tr>\n",
       "    <tr>\n",
       "      <th>4</th>\n",
       "      <td>261</td>\n",
       "      <td>160</td>\n",
       "      <td>10</td>\n",
       "    </tr>\n",
       "  </tbody>\n",
       "</table>\n",
       "</div>"
      ],
      "text/plain": [
       "   production  temperature  concentration\n",
       "0         180           80             10\n",
       "1         203          100             10\n",
       "2         222          120             10\n",
       "3         234          140             10\n",
       "4         261          160             10"
      ]
     },
     "execution_count": 7,
     "metadata": {},
     "output_type": "execute_result"
    }
   ],
   "source": [
    "production_data = pd.read_csv(\"production.csv\", index_col=0)\n",
    "production_data.head()"
   ]
  },
  {
   "cell_type": "code",
   "execution_count": 18,
   "metadata": {},
   "outputs": [],
   "source": [
    "response_variable_prod = \"production\"\n",
    "selected_regressors_prod = [\"temperature\", \"concentration\"]\n",
    "\n",
    "y = production_data[response_variable_prod]\n",
    "x = production_data[selected_regressors_prod].to_numpy().T\n",
    "x0 = np.zeros(len(selected_regressors_prod) + 1)"
   ]
  },
  {
   "cell_type": "code",
   "execution_count": 9,
   "metadata": {},
   "outputs": [
    {
     "data": {
      "text/plain": [
       "(array([88.14  ,  0.8925,  2.532 ]), 1)"
      ]
     },
     "execution_count": 9,
     "metadata": {},
     "output_type": "execute_result"
    }
   ],
   "source": [
    "# Aplicando Método de Newton\n",
    "y = y.to_numpy()\n",
    "ones = np.ones(20)\n",
    "data_with_0 = np.vstack((ones,x))\n",
    "\n",
    "newton_method(x0,data_with_0.T,y.T)"
   ]
  },
  {
   "cell_type": "code",
   "execution_count": 19,
   "metadata": {},
   "outputs": [
    {
     "data": {
      "text/plain": [
       "     fun: 647.160000000149\n",
       "    hess: array([[4.00e+01, 4.80e+03, 7.00e+02],\n",
       "       [4.80e+03, 6.08e+05, 8.40e+04],\n",
       "       [7.00e+02, 8.40e+04, 1.35e+04]])\n",
       "     jac: array([0., 0., 0.])\n",
       " message: 'Optimization terminated successfully.'\n",
       "    nfev: 8\n",
       "    nhev: 7\n",
       "     nit: 7\n",
       "    njev: 8\n",
       "  status: 0\n",
       " success: True\n",
       "       x: array([88.14  ,  0.8925,  2.532 ])"
      ]
     },
     "execution_count": 19,
     "metadata": {},
     "output_type": "execute_result"
    }
   ],
   "source": [
    "# Aplicando Método dogleg\n",
    "y = y.to_numpy()\n",
    "ones = np.ones(20)\n",
    "data_with_0 = np.vstack((ones, x))\n",
    "\n",
    "dogleg(x0, data_with_0.T, y.T)"
   ]
  },
  {
   "cell_type": "markdown",
   "metadata": {},
   "source": [
    "## *Study on the Efficacy of Nosocomial Infection Control* (SENIC Data)"
   ]
  },
  {
   "cell_type": "markdown",
   "metadata": {},
   "source": [
    "Nesse caso, utilizaremos dados de um estudo sobre a eficácia no controle de infecção nosocomial, isto é, infecções adquiridas durante a internação ou em procedimentos hospitalares. "
   ]
  },
  {
   "cell_type": "code",
   "execution_count": null,
   "metadata": {},
   "outputs": [
    {
     "data": {
      "text/html": [
       "<div>\n",
       "<style scoped>\n",
       "    .dataframe tbody tr th:only-of-type {\n",
       "        vertical-align: middle;\n",
       "    }\n",
       "\n",
       "    .dataframe tbody tr th {\n",
       "        vertical-align: top;\n",
       "    }\n",
       "\n",
       "    .dataframe thead th {\n",
       "        text-align: right;\n",
       "    }\n",
       "</style>\n",
       "<table border=\"1\" class=\"dataframe\">\n",
       "  <thead>\n",
       "    <tr style=\"text-align: right;\">\n",
       "      <th></th>\n",
       "      <th>id</th>\n",
       "      <th>tempo</th>\n",
       "      <th>idade</th>\n",
       "      <th>risco_infeccao</th>\n",
       "      <th>cultura</th>\n",
       "      <th>x_ray</th>\n",
       "      <th>numero_camas</th>\n",
       "      <th>afiliacao</th>\n",
       "      <th>regiao</th>\n",
       "      <th>census</th>\n",
       "      <th>enfermeiras</th>\n",
       "      <th>servicos</th>\n",
       "    </tr>\n",
       "  </thead>\n",
       "  <tbody>\n",
       "    <tr>\n",
       "      <th>0</th>\n",
       "      <td>1</td>\n",
       "      <td>7.13</td>\n",
       "      <td>55.7</td>\n",
       "      <td>4.1</td>\n",
       "      <td>9.0</td>\n",
       "      <td>39.6</td>\n",
       "      <td>279</td>\n",
       "      <td>2</td>\n",
       "      <td>4</td>\n",
       "      <td>207</td>\n",
       "      <td>241</td>\n",
       "      <td>60.0</td>\n",
       "    </tr>\n",
       "    <tr>\n",
       "      <th>1</th>\n",
       "      <td>2</td>\n",
       "      <td>8.82</td>\n",
       "      <td>58.2</td>\n",
       "      <td>1.6</td>\n",
       "      <td>3.8</td>\n",
       "      <td>51.7</td>\n",
       "      <td>80</td>\n",
       "      <td>2</td>\n",
       "      <td>2</td>\n",
       "      <td>51</td>\n",
       "      <td>52</td>\n",
       "      <td>40.0</td>\n",
       "    </tr>\n",
       "    <tr>\n",
       "      <th>2</th>\n",
       "      <td>3</td>\n",
       "      <td>8.34</td>\n",
       "      <td>56.9</td>\n",
       "      <td>2.7</td>\n",
       "      <td>8.1</td>\n",
       "      <td>74.0</td>\n",
       "      <td>107</td>\n",
       "      <td>2</td>\n",
       "      <td>3</td>\n",
       "      <td>82</td>\n",
       "      <td>54</td>\n",
       "      <td>20.0</td>\n",
       "    </tr>\n",
       "    <tr>\n",
       "      <th>3</th>\n",
       "      <td>4</td>\n",
       "      <td>8.95</td>\n",
       "      <td>53.7</td>\n",
       "      <td>5.6</td>\n",
       "      <td>18.9</td>\n",
       "      <td>122.8</td>\n",
       "      <td>147</td>\n",
       "      <td>2</td>\n",
       "      <td>4</td>\n",
       "      <td>53</td>\n",
       "      <td>148</td>\n",
       "      <td>40.0</td>\n",
       "    </tr>\n",
       "    <tr>\n",
       "      <th>4</th>\n",
       "      <td>5</td>\n",
       "      <td>11.20</td>\n",
       "      <td>56.5</td>\n",
       "      <td>5.7</td>\n",
       "      <td>34.5</td>\n",
       "      <td>88.9</td>\n",
       "      <td>180</td>\n",
       "      <td>2</td>\n",
       "      <td>1</td>\n",
       "      <td>134</td>\n",
       "      <td>151</td>\n",
       "      <td>40.0</td>\n",
       "    </tr>\n",
       "  </tbody>\n",
       "</table>\n",
       "</div>"
      ],
      "text/plain": [
       "   id  tempo  idade  risco_infeccao  cultura  x_ray  numero_camas  afiliacao  \\\n",
       "0   1   7.13   55.7             4.1      9.0   39.6           279          2   \n",
       "1   2   8.82   58.2             1.6      3.8   51.7            80          2   \n",
       "2   3   8.34   56.9             2.7      8.1   74.0           107          2   \n",
       "3   4   8.95   53.7             5.6     18.9  122.8           147          2   \n",
       "4   5  11.20   56.5             5.7     34.5   88.9           180          2   \n",
       "\n",
       "   regiao  census  enfermeiras  servicos  \n",
       "0       4     207          241      60.0  \n",
       "1       2      51           52      40.0  \n",
       "2       3      82           54      20.0  \n",
       "3       4      53          148      40.0  \n",
       "4       1     134          151      40.0  "
      ]
     },
     "execution_count": 155,
     "metadata": {},
     "output_type": "execute_result"
    }
   ],
   "source": [
    "senic_data = pd.read_csv(\"./SENIC.csv\")\n",
    "senic_data.head()"
   ]
  },
  {
   "cell_type": "markdown",
   "metadata": {},
   "source": [
    "Nesse problema de regressão linear múltipla, a **variável resposta** em estudo é o tempo que o paciente permanece no hospital. Desse modo, para entender o **tempo** de permanência, selecionaremos as seguintes covariáveis:\n",
    "* Idade do paciente;\n",
    "* Probabilidade do risco de infecção;\n",
    "* Número de Enfermeiras;\n",
    "* Cultura;\n",
    "* Número de Camas oferecidas.\n",
    "\n"
   ]
  },
  {
   "cell_type": "code",
   "execution_count": null,
   "metadata": {},
   "outputs": [],
   "source": [
    "response_variable_senic = \"tempo\"\n",
    "selected_regressors_senic = [\"idade\", \"risco_infeccao\", \"cultura\", \"numero_camas\", \"enfermeiras\"]\n",
    "\n",
    "y = senic_data[response_variable_senic]\n",
    "x = senic_data[selected_regressors_senic].to_numpy().T\n",
    "x0 = np.zeros(len(selected_regressors_senic) + 1)\n",
    "x0 = np.array([-100, -100, -100, -100, -100, -100])"
   ]
  },
  {
   "cell_type": "code",
   "execution_count": null,
   "metadata": {},
   "outputs": [
    {
     "data": {
      "text/plain": [
       "(array([ 1.00647333,  0.09812137,  0.53168423,  0.02994805,  0.00617776,\n",
       "        -0.00535391]),\n",
       " 1)"
      ]
     },
     "execution_count": 157,
     "metadata": {},
     "output_type": "execute_result"
    }
   ],
   "source": [
    "# Aplicando Método de Newton\n",
    "y = y.to_numpy()\n",
    "ones = np.ones(len(y))\n",
    "x_with_0 = np.vstack((ones,x))\n",
    "\n",
    "newton_method(x0,x_with_0.T,y.T)"
   ]
  },
  {
   "cell_type": "code",
   "execution_count": null,
   "metadata": {},
   "outputs": [
    {
     "data": {
      "text/plain": [
       "     fun: 238.7474422467389\n",
       "     jac: array([  0.42213249,  33.62401962,  10.49047279,  11.20814323,\n",
       "       102.93234253,  80.7146244 ])\n",
       " message: 'Maximum number of iterations has been exceeded.'\n",
       "    nfev: 19138\n",
       "     nit: 1200\n",
       "    njev: 2734\n",
       "  status: 1\n",
       " success: False\n",
       "       x: array([ 0.84179909,  0.09940786,  0.56513577,  0.02804129,  0.00613966,\n",
       "       -0.00539949])"
      ]
     },
     "execution_count": 158,
     "metadata": {},
     "output_type": "execute_result"
    }
   ],
   "source": [
    "# Aplicando Método dogleg\n",
    "dogleg(y, x, x0=x0)"
   ]
  },
  {
   "cell_type": "markdown",
   "metadata": {},
   "source": [
    "## Conclusão"
   ]
  },
  {
   "cell_type": "markdown",
   "metadata": {},
   "source": [
    "## Referências"
   ]
  },
  {
   "attachments": {},
   "cell_type": "markdown",
   "metadata": {},
   "source": [
    "* Material preparado e disponibilizado pela professora Marina Andretta.\n",
    "\n",
    "* Neter, J., Kutner, M. H., Nachtsheim, C. J., & Wasserman, W. (1996). Applied linear statistical models.\n",
    "\n",
    "* Montgomery, Douglas C., Elizabeth A. Peck, and G. Geoffrey Vining. Introduction to linear regression analysis. John Wiley & Sons, 2021.\n",
    "\n",
    "* Chan, H. S. \"Introduction to Probability for Data Science.\" (2021)."
   ]
  }
 ],
 "metadata": {
  "kernelspec": {
   "display_name": "Python 3.10.8 64-bit (microsoft store)",
   "language": "python",
   "name": "python3"
  },
  "language_info": {
   "codemirror_mode": {
    "name": "ipython",
    "version": 3
   },
   "file_extension": ".py",
   "mimetype": "text/x-python",
   "name": "python",
   "nbconvert_exporter": "python",
   "pygments_lexer": "ipython3",
   "version": "3.10.8"
  },
  "vscode": {
   "interpreter": {
    "hash": "339b31d263f74a50d0b9f1f60f0b3fe271675c0cedd919058018f3e39807a028"
   }
  }
 },
 "nbformat": 4,
 "nbformat_minor": 2
}
