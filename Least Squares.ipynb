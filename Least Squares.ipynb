{
 "cells": [
  {
   "cell_type": "markdown",
   "metadata": {},
   "source": [
    "# Problema de Otimização Não-Linear\n",
    "## Projeto da disciplina **SME5720 - Otimização Não-linear**\n",
    "### Estudo de caso da Regressão Linear"
   ]
  },
  {
   "cell_type": "markdown",
   "metadata": {},
   "source": [
    "## Membros\n",
    "\n",
    "* Eduardo Zaffari Monteiro - eduardozaffarimonteiro@usp.br - 12559490\n",
    "\n",
    "* Gustavo Silva de Oliveira - gustavo.oliveira03@usp.br - 12567231\n",
    "\n",
    "* Lucas Ivars Cadima Ciziks - luciziks@usp.br - 125599472\n",
    "\n",
    "* Pedro Henrique de Freitas Maçonetto - pedromaconetto@usp.br - 12675419"
   ]
  },
  {
   "cell_type": "markdown",
   "metadata": {},
   "source": [
    "## Introdução"
   ]
  },
  {
   "attachments": {},
   "cell_type": "markdown",
   "metadata": {},
   "source": [
    "*Regressão* é a metodologia responsável por estudar e compreender o **relacionamento estatístico** entre uma variável resposta (ou dependente) e variáveis preditoras (ou independentes). Esse método captura a correlação entre as variáveis em investigação e avalia se tal relação é estatisticamente significativa ou não. A técnica mais simples e comum é a **Regressão Linear**, em que o relacionamento entre as variáveis é modelado de forma linear, procurando a reta ou plano que melhor se ajuste aos dados. O seguinte modelo com duas covariáveis ilustra a técnica:"
   ]
  },
  {
   "attachments": {},
   "cell_type": "markdown",
   "metadata": {},
   "source": [
    "$$\n",
    "Y = \\beta_0 + \\beta_1 X_1 + \\beta_2 X_2 + \\epsilon\n",
    "$$\n",
    "\n",
    "* $Y$: Variável Resposta ou Dependente;\n",
    "* $X_1$ e $X_2$: Variáveis Preditoras ou Independente;\n",
    "* $\\beta_0$: Parâmetro que representa o intercepto;\n",
    "* $\\beta_1$ e $\\beta_2$: Parâmetros cuja taxa de mudança quando as outras covariáveis são mantidas constate;\n",
    "* $\\epsilon$: Erro Aleatório associado ao modelo; \n",
    "\n",
    "![Exemplo de Regressão](./Regressão.png \"Exemplo de Regressao\")"
   ]
  },
  {
   "attachments": {},
   "cell_type": "markdown",
   "metadata": {},
   "source": [
    "Desse modo, a Regressão busca estimar os parâmetros do modelo proposto. Isso pode ser realizado de diversos modos, mas o método mais utilizado é o **Método dos Mínimos Quadrados**. Ele consiste em minimizar a soma dos erros ao quadrado, encontrando estimadores **não-viesados** para os parâmetros do modelo, com a **menor variância** dentre todos os estimadores não-viesados (Teorema de Gauss-Markov). \n",
    "\n",
    "Essa otimização pode ser resolvida de forma analítica, porém, estamos interessados em observar o comportamento dos métodos vistos durante a disciplina nesse contexto. Como o problema se trata de uma **Minimização Irrestrita**, podemos aplicar tanto os métodos de **Busca Linear** quanto os de **Região de Confiança** vistos no decorrer da disciplina: Método da Máxima Descida, Método de Newton modificado, Método dogleg, etc... Para resolvê-lo, implementamos dois métodos de busca linear: o **Método de Newton** e o **Método do Gradiente Conjugado**."
   ]
  },
  {
   "cell_type": "markdown",
   "metadata": {},
   "source": [
    "## Modelagem do Problema"
   ]
  },
  {
   "attachments": {},
   "cell_type": "markdown",
   "metadata": {},
   "source": [
    "O objetivo da regressão é estimar os $p$ parâmetros $\\overrightarrow{{\\beta}} = [\\beta_0, \\beta_1, ... \\beta_{p-1}]$ que melhor ajustam o modelo aos dados observados. Nesse contexto, o método mais utilizado e poderoso é o **Mínimos Quadrados** ou **Least-Square**, cujo propósito é minimizar a soma quadrática dos erros ou ruídos gerados pelo modelo $S(\\overrightarrow{{\\beta}})$. Os estimadores calculados por esse método sao **não-viesados** e possuem a **menor variância** dentre todos os estimadores não-viesados (Teorema de Gauss-Markov). Portanto, o problema da regressão é equivalente a resolver o seguinte processo de otimização não-linear:\n",
    "\n",
    "$$\n",
    "S(\\overrightarrow{{\\beta}}) = \\sum_{i=1}^{n} \\epsilon_i^2 = \\sum_{i=1}^{n}(Y - \\beta_0-\\beta_1 X_1 - ... - \\beta_{p-1} X_{p-1})^2 = (\\overrightarrow{Y} - \\bm{X} \\overrightarrow{{\\beta}})^T (\\overrightarrow{Y} - \\bm{X} \\overrightarrow{{\\beta}})\n",
    "$$\n",
    "\n",
    "$$\n",
    "\\min{S(\\overrightarrow{{\\beta}})} = \\min\\sum_{i=1}^{n}(Y - \\beta_0-\\beta_1 X_1 - ... - \\beta_{p-1} X_{p-1})^2\n",
    "$$\n",
    "com\n",
    "* $\\overrightarrow{{\\beta}} \\in \\mathbb{R}^p$;\n",
    "* $S \\in \\mathbb{R}^p \\rightarrow \\mathbb{R}$ é uma funçao suave. "
   ]
  },
  {
   "attachments": {},
   "cell_type": "markdown",
   "metadata": {},
   "source": [
    "Como o problema se trata de uma **Minimização Irrestrita**, podemos aplicar tanto os métodos de **Busca Linear** quanto os de **Região de Confiança** vistos no decorrer da disciplina: \n",
    "* Método da Máxima Descida;\n",
    "* Método de Newton;\n",
    "* Método de Newton modificado;\n",
    "* Método dos Gradientes Conjugados;\n",
    "* Método de Quase-Newton;\n",
    "* Método de Newton Truncado;\n",
    "* Ponto de Cauchy;\n",
    "* Método dogleg;\n",
    "\n",
    " Para resolvê-lo, implementamos dois métodos: o **Método de Newton** e o **Método do Gradiente Conjugado**."
   ]
  },
  {
   "cell_type": "markdown",
   "metadata": {},
   "source": [
    "## Implementação"
   ]
  },
  {
   "cell_type": "code",
   "execution_count": 1,
   "metadata": {},
   "outputs": [],
   "source": [
    "# Importando bibliotecas\n",
    "import numpy as np\n",
    "import pandas as pd\n",
    "import scipy"
   ]
  },
  {
   "cell_type": "markdown",
   "metadata": {},
   "source": [
    "### Funções Auxiliares"
   ]
  },
  {
   "cell_type": "code",
   "execution_count": 175,
   "metadata": {},
   "outputs": [],
   "source": [
    "# Verifica se a matriz é definida positiva\n",
    "def positiva_definida(matrix):\n",
    "    return np.all(np.linalg.eigvals(matrix) > 0)"
   ]
  },
  {
   "cell_type": "code",
   "execution_count": 176,
   "metadata": {},
   "outputs": [],
   "source": [
    "# Verifica se a matriz é simétrica\n",
    "def simetrica(matrix):\n",
    "    return (matrix == matrix.T).any()"
   ]
  },
  {
   "cell_type": "code",
   "execution_count": 177,
   "metadata": {},
   "outputs": [],
   "source": [
    "# Cálculo do Gradiente"
   ]
  },
  {
   "cell_type": "code",
   "execution_count": 178,
   "metadata": {},
   "outputs": [],
   "source": [
    "# Cálculo da Hessiana"
   ]
  },
  {
   "cell_type": "markdown",
   "metadata": {},
   "source": [
    "### Método de Newton"
   ]
  },
  {
   "cell_type": "code",
   "execution_count": 179,
   "metadata": {},
   "outputs": [],
   "source": [
    "y = np.array([2.40, 4.70, 12, 14.44, 26]).T\n",
    "dados = np.array([[1,1,1,1,1]\n",
    "                ,[68, 137, 315, 405,700]]).T\n"
   ]
  },
  {
   "cell_type": "code",
   "execution_count": 181,
   "metadata": {},
   "outputs": [],
   "source": [
    "# Definindo ponto de partida, covariaveis e target\n",
    "y = np.array([2.40, 4.70, 12, 14.44, 26]).T\n",
    "dados = np.array([[1,1,1,1,1]\n",
    "                ,[68, 137, 315, 405,700]]).T\n",
    "x0 = np.array([3,3])"
   ]
  },
  {
   "cell_type": "code",
   "execution_count": 182,
   "metadata": {},
   "outputs": [],
   "source": [
    "# Definindo função\n",
    "def f(b, dados, y):\n",
    "  return y.T@y - 2*y.T@dados@b + b.T@dados.T@dados@b"
   ]
  },
  {
   "cell_type": "code",
   "execution_count": 183,
   "metadata": {},
   "outputs": [],
   "source": [
    "## Definindo gradiente da função\n",
    "def grad_f(b,dados,y):\n",
    "  return -2*dados.T@y + 2 * dados.T@dados@b"
   ]
  },
  {
   "cell_type": "code",
   "execution_count": 185,
   "metadata": {},
   "outputs": [],
   "source": [
    "## Definindo hessiana da função\n",
    "def hess_f(dados):\n",
    "  return (2)*(dados.T@dados)"
   ]
  },
  {
   "cell_type": "code",
   "execution_count": 190,
   "metadata": {},
   "outputs": [],
   "source": [
    "def newton_method(Xk):\n",
    "  i = 0\n",
    "  a = 1\n",
    "  while i < 5 and  not(np.isclose(grad_f(Xk,dados,y),[0,0], atol=1e-04).all()):\n",
    "    p = np.linalg.inv(hess_f(dados)) @ grad_f(Xk,dados,y)\n",
    "    Xk = Xk - a * p\n",
    "    i += 1\n",
    "  return Xk,i"
   ]
  },
  {
   "cell_type": "code",
   "execution_count": 191,
   "metadata": {},
   "outputs": [
    {
     "data": {
      "text/plain": [
       "(array([-0.23421907,  0.03736067]), 1)"
      ]
     },
     "execution_count": 191,
     "metadata": {},
     "output_type": "execute_result"
    }
   ],
   "source": [
    "newton_method(x0)"
   ]
  },
  {
   "cell_type": "markdown",
   "metadata": {},
   "source": [
    "### Método dos Gradientes Conjugados"
   ]
  },
  {
   "cell_type": "code",
   "execution_count": 22,
   "metadata": {},
   "outputs": [],
   "source": [
    "# Função que transforma os dados do problema original em uma equação de Mínimos Quadrados\n",
    "def get_least_square(y, x):\n",
    "    n_row = len(y)\n",
    "    n_covariables = len(x)\n",
    "\n",
    "    def f(beta):\n",
    "        total_square_sum = 0\n",
    "\n",
    "        for row in range(n_row):\n",
    "            square_sum = y[row] - beta[0]\n",
    "\n",
    "            for x_i in range(n_covariables):\n",
    "                square_sum -= x[x_i][row] * beta[x_i + 1]\n",
    "\n",
    "            total_square_sum += square_sum**2\n",
    "        return total_square_sum\n",
    "        \n",
    "    return f"
   ]
  },
  {
   "cell_type": "code",
   "execution_count": 3,
   "metadata": {},
   "outputs": [],
   "source": [
    "# Método dos Gradientes Conjugados\n",
    "def gradiente_conjugado(y, x, x0):\n",
    "    least_squares_function = get_least_square(y, x)\n",
    "    minimium = scipy.optimize.minimize(least_squares_function, x0=x0, method=\"CG\")\n",
    "    return minimium"
   ]
  },
  {
   "attachments": {},
   "cell_type": "markdown",
   "metadata": {},
   "source": [
    "## Instâncias do Problema"
   ]
  },
  {
   "cell_type": "markdown",
   "metadata": {},
   "source": [
    "### Produção de uma Fábrica"
   ]
  },
  {
   "cell_type": "code",
   "execution_count": 5,
   "metadata": {},
   "outputs": [
    {
     "data": {
      "text/html": [
       "<div>\n",
       "<style scoped>\n",
       "    .dataframe tbody tr th:only-of-type {\n",
       "        vertical-align: middle;\n",
       "    }\n",
       "\n",
       "    .dataframe tbody tr th {\n",
       "        vertical-align: top;\n",
       "    }\n",
       "\n",
       "    .dataframe thead th {\n",
       "        text-align: right;\n",
       "    }\n",
       "</style>\n",
       "<table border=\"1\" class=\"dataframe\">\n",
       "  <thead>\n",
       "    <tr style=\"text-align: right;\">\n",
       "      <th></th>\n",
       "      <th>production</th>\n",
       "      <th>temperature</th>\n",
       "      <th>concentration</th>\n",
       "    </tr>\n",
       "  </thead>\n",
       "  <tbody>\n",
       "    <tr>\n",
       "      <th>0</th>\n",
       "      <td>180</td>\n",
       "      <td>80</td>\n",
       "      <td>10</td>\n",
       "    </tr>\n",
       "    <tr>\n",
       "      <th>1</th>\n",
       "      <td>203</td>\n",
       "      <td>100</td>\n",
       "      <td>10</td>\n",
       "    </tr>\n",
       "    <tr>\n",
       "      <th>2</th>\n",
       "      <td>222</td>\n",
       "      <td>120</td>\n",
       "      <td>10</td>\n",
       "    </tr>\n",
       "    <tr>\n",
       "      <th>3</th>\n",
       "      <td>234</td>\n",
       "      <td>140</td>\n",
       "      <td>10</td>\n",
       "    </tr>\n",
       "    <tr>\n",
       "      <th>4</th>\n",
       "      <td>261</td>\n",
       "      <td>160</td>\n",
       "      <td>10</td>\n",
       "    </tr>\n",
       "  </tbody>\n",
       "</table>\n",
       "</div>"
      ],
      "text/plain": [
       "   production  temperature  concentration\n",
       "0         180           80             10\n",
       "1         203          100             10\n",
       "2         222          120             10\n",
       "3         234          140             10\n",
       "4         261          160             10"
      ]
     },
     "execution_count": 5,
     "metadata": {},
     "output_type": "execute_result"
    }
   ],
   "source": [
    "production_data = pd.read_csv(\"production.csv\", index_col=0)\n",
    "production_data.head()"
   ]
  },
  {
   "cell_type": "code",
   "execution_count": 35,
   "metadata": {},
   "outputs": [],
   "source": [
    "response_variable_prod = \"production\"\n",
    "selected_regressors_prod = [\"temperature\", \"concentration\"]\n",
    "\n",
    "y = production_data[response_variable_prod]\n",
    "x = production_data[selected_regressors_prod].to_numpy().T\n",
    "x0 = np.zeros(len(selected_regressors_prod) + 1)"
   ]
  },
  {
   "cell_type": "code",
   "execution_count": null,
   "metadata": {},
   "outputs": [],
   "source": [
    "# Aplicando Método de Newton\n"
   ]
  },
  {
   "cell_type": "code",
   "execution_count": 36,
   "metadata": {},
   "outputs": [
    {
     "data": {
      "text/plain": [
       "     fun: 647.1600003705831\n",
       "     jac: array([-0.00102234,  0.0007782 ,  0.0004425 ])\n",
       " message: 'Desired error not necessarily achieved due to precision loss.'\n",
       "    nfev: 344\n",
       "     nit: 20\n",
       "    njev: 83\n",
       "  status: 2\n",
       " success: False\n",
       "       x: array([88.1392697 ,  0.89250373,  2.53201466])"
      ]
     },
     "execution_count": 36,
     "metadata": {},
     "output_type": "execute_result"
    }
   ],
   "source": [
    "# Aplicando método dos Gradientes Conjugados\n",
    "gradiente_conjugado(y, x, x0=x0)"
   ]
  },
  {
   "cell_type": "markdown",
   "metadata": {},
   "source": [
    "## *Study on the Efficacy of Nosocomial Infection Control* (SENIC Data)"
   ]
  },
  {
   "cell_type": "markdown",
   "metadata": {},
   "source": [
    "Nesse caso, utilizaremos dados de um estudo sobre a eficácia no controle de infecção nosocomial, isto é, infecções adquiridas durante a internação ou em procedimentos hospitalares. "
   ]
  },
  {
   "cell_type": "code",
   "execution_count": 97,
   "metadata": {},
   "outputs": [
    {
     "data": {
      "text/html": [
       "<div>\n",
       "<style scoped>\n",
       "    .dataframe tbody tr th:only-of-type {\n",
       "        vertical-align: middle;\n",
       "    }\n",
       "\n",
       "    .dataframe tbody tr th {\n",
       "        vertical-align: top;\n",
       "    }\n",
       "\n",
       "    .dataframe thead th {\n",
       "        text-align: right;\n",
       "    }\n",
       "</style>\n",
       "<table border=\"1\" class=\"dataframe\">\n",
       "  <thead>\n",
       "    <tr style=\"text-align: right;\">\n",
       "      <th></th>\n",
       "      <th>id</th>\n",
       "      <th>tempo</th>\n",
       "      <th>idade</th>\n",
       "      <th>risco_infeccao</th>\n",
       "      <th>cultura</th>\n",
       "      <th>x_ray</th>\n",
       "      <th>numero_camas</th>\n",
       "      <th>afiliacao</th>\n",
       "      <th>regiao</th>\n",
       "      <th>census</th>\n",
       "      <th>enfermeiras</th>\n",
       "      <th>servicos</th>\n",
       "    </tr>\n",
       "  </thead>\n",
       "  <tbody>\n",
       "    <tr>\n",
       "      <th>0</th>\n",
       "      <td>1</td>\n",
       "      <td>7.13</td>\n",
       "      <td>55.7</td>\n",
       "      <td>4.1</td>\n",
       "      <td>9.0</td>\n",
       "      <td>39.6</td>\n",
       "      <td>279</td>\n",
       "      <td>2</td>\n",
       "      <td>4</td>\n",
       "      <td>207</td>\n",
       "      <td>241</td>\n",
       "      <td>60.0</td>\n",
       "    </tr>\n",
       "    <tr>\n",
       "      <th>1</th>\n",
       "      <td>2</td>\n",
       "      <td>8.82</td>\n",
       "      <td>58.2</td>\n",
       "      <td>1.6</td>\n",
       "      <td>3.8</td>\n",
       "      <td>51.7</td>\n",
       "      <td>80</td>\n",
       "      <td>2</td>\n",
       "      <td>2</td>\n",
       "      <td>51</td>\n",
       "      <td>52</td>\n",
       "      <td>40.0</td>\n",
       "    </tr>\n",
       "    <tr>\n",
       "      <th>2</th>\n",
       "      <td>3</td>\n",
       "      <td>8.34</td>\n",
       "      <td>56.9</td>\n",
       "      <td>2.7</td>\n",
       "      <td>8.1</td>\n",
       "      <td>74.0</td>\n",
       "      <td>107</td>\n",
       "      <td>2</td>\n",
       "      <td>3</td>\n",
       "      <td>82</td>\n",
       "      <td>54</td>\n",
       "      <td>20.0</td>\n",
       "    </tr>\n",
       "    <tr>\n",
       "      <th>3</th>\n",
       "      <td>4</td>\n",
       "      <td>8.95</td>\n",
       "      <td>53.7</td>\n",
       "      <td>5.6</td>\n",
       "      <td>18.9</td>\n",
       "      <td>122.8</td>\n",
       "      <td>147</td>\n",
       "      <td>2</td>\n",
       "      <td>4</td>\n",
       "      <td>53</td>\n",
       "      <td>148</td>\n",
       "      <td>40.0</td>\n",
       "    </tr>\n",
       "    <tr>\n",
       "      <th>4</th>\n",
       "      <td>5</td>\n",
       "      <td>11.20</td>\n",
       "      <td>56.5</td>\n",
       "      <td>5.7</td>\n",
       "      <td>34.5</td>\n",
       "      <td>88.9</td>\n",
       "      <td>180</td>\n",
       "      <td>2</td>\n",
       "      <td>1</td>\n",
       "      <td>134</td>\n",
       "      <td>151</td>\n",
       "      <td>40.0</td>\n",
       "    </tr>\n",
       "  </tbody>\n",
       "</table>\n",
       "</div>"
      ],
      "text/plain": [
       "   id  tempo  idade  risco_infeccao  cultura  x_ray  numero_camas  afiliacao  \\\n",
       "0   1   7.13   55.7             4.1      9.0   39.6           279          2   \n",
       "1   2   8.82   58.2             1.6      3.8   51.7            80          2   \n",
       "2   3   8.34   56.9             2.7      8.1   74.0           107          2   \n",
       "3   4   8.95   53.7             5.6     18.9  122.8           147          2   \n",
       "4   5  11.20   56.5             5.7     34.5   88.9           180          2   \n",
       "\n",
       "   regiao  census  enfermeiras  servicos  \n",
       "0       4     207          241      60.0  \n",
       "1       2      51           52      40.0  \n",
       "2       3      82           54      20.0  \n",
       "3       4      53          148      40.0  \n",
       "4       1     134          151      40.0  "
      ]
     },
     "execution_count": 97,
     "metadata": {},
     "output_type": "execute_result"
    }
   ],
   "source": [
    "senic_data = pd.read_csv(\"./SENIC.csv\")\n",
    "senic_data.head()"
   ]
  },
  {
   "cell_type": "markdown",
   "metadata": {},
   "source": [
    "Nesse problema de regressão linear múltipla, a **variável resposta** em estudo é o tempo que o paciente permanece no hospital. Desse modo, para entender o **tempo** de permanência, selecionaremos as seguintes covariáveis:\n",
    "* Idade do paciente;\n",
    "* Probabilidade do risco de infecção;\n",
    "* Número de Enfermeiras;\n",
    "* Cultura;\n",
    "* Número de Camas oferecidas.\n",
    "\n"
   ]
  },
  {
   "cell_type": "code",
   "execution_count": 102,
   "metadata": {},
   "outputs": [],
   "source": [
    "response_variable_senic = \"tempo\"\n",
    "selected_regressors_senic = [\"idade\", \"risco_infeccao\", \"cultura\", \"numero_camas\", \"enfermeiras\"]\n",
    "\n",
    "y = senic_data[response_variable_senic]\n",
    "x = senic_data[selected_regressors_senic].to_numpy().T\n",
    "x0 = np.zeros(len(selected_regressors_senic) + 1)\n",
    "x0 = np.array([-100, -100, -100, -100, -100, -100])"
   ]
  },
  {
   "cell_type": "code",
   "execution_count": null,
   "metadata": {},
   "outputs": [],
   "source": [
    "# Aplicando Método de Newton\n"
   ]
  },
  {
   "cell_type": "code",
   "execution_count": 103,
   "metadata": {},
   "outputs": [
    {
     "data": {
      "text/plain": [
       "     fun: 254.45046806550238\n",
       "     jac: array([ -6.35216331,  10.95670128,   0.72226715,   9.43229675,\n",
       "       -69.78525734,  -4.31576157])\n",
       " message: 'Maximum number of iterations has been exceeded.'\n",
       "    nfev: 19208\n",
       "     nit: 1200\n",
       "    njev: 2744\n",
       "  status: 1\n",
       " success: False\n",
       "       x: array([-3.82007976,  0.18312441,  0.54082375,  0.04163497,  0.00623811,\n",
       "       -0.00515775])"
      ]
     },
     "execution_count": 103,
     "metadata": {},
     "output_type": "execute_result"
    }
   ],
   "source": [
    "# Aplicando método dos Gradientes Conjugados\n",
    "gradiente_conjugado(y, x, x0=x0)"
   ]
  },
  {
   "cell_type": "markdown",
   "metadata": {},
   "source": [
    "## Conclusão"
   ]
  },
  {
   "cell_type": "markdown",
   "metadata": {},
   "source": [
    "## Referências"
   ]
  },
  {
   "attachments": {},
   "cell_type": "markdown",
   "metadata": {},
   "source": [
    "* Neter, John, et al. \"Applied linear statistical models.\" (1996): 318.\n",
    "\n",
    "* Montgomery, Douglas C., Elizabeth A. Peck, and G. Geoffrey Vining. Introduction to linear regression analysis. John Wiley & Sons, 2021.\n",
    "\n",
    "* Chan, H. S. \"Introduction to Probability for Data Science.\" (2021)."
   ]
  }
 ],
 "metadata": {
  "kernelspec": {
   "display_name": "Python 3 (ipykernel)",
   "language": "python",
   "name": "python3"
  },
  "language_info": {
   "codemirror_mode": {
    "name": "ipython",
    "version": 3
   },
   "file_extension": ".py",
   "mimetype": "text/x-python",
   "name": "python",
   "nbconvert_exporter": "python",
   "pygments_lexer": "ipython3",
   "version": "3.10.7"
  },
  "vscode": {
   "interpreter": {
    "hash": "8c2e15034f07720a3e57266749b805dbe4b964ae6e11e3a0ca2f3b08408e10de"
   }
  }
 },
 "nbformat": 4,
 "nbformat_minor": 2
}
