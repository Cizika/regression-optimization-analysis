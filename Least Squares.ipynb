{
 "cells": [
  {
   "cell_type": "markdown",
   "metadata": {},
   "source": [
    "# Problema de Otimização Não-Linear\n",
    "## Projeto da disciplina **SME5720 - Otimização Não-linear**\n",
    "### Estudo de caso da Regressão Linear"
   ]
  },
  {
   "cell_type": "markdown",
   "metadata": {},
   "source": [
    "## Membros\n",
    "\n",
    "* Eduardo Zaffari Monteiro - eduardozaffarimonteiro@usp.br - 12559490\n",
    "\n",
    "* Gustavo Silva de Oliveira - gustavo.oliveira03@usp.br - 12567231\n",
    "\n",
    "* Lucas Ivars Cadima Ciziks - luciziks@usp.br - 125599472\n",
    "\n",
    "* Pedro Henrique de Freitas Maçonetto - pedromaconetto@usp.br - 12675419"
   ]
  },
  {
   "cell_type": "markdown",
   "metadata": {},
   "source": [
    "## Introdução"
   ]
  },
  {
   "cell_type": "markdown",
   "metadata": {},
   "source": [
    "Explicar qual o problema escolhido e os métodos que foram implementados, bem como que tipo de problemas eles resolvem."
   ]
  },
  {
   "cell_type": "markdown",
   "metadata": {},
   "source": [
    "## Modelagem do Problema"
   ]
  },
  {
   "cell_type": "markdown",
   "metadata": {},
   "source": [
    "Descrever a modelagem matemática do problema e deverá ser apontado que tipo de método pode ser usado para resolvê-lo."
   ]
  },
  {
   "cell_type": "markdown",
   "metadata": {},
   "source": [
    "## Implementação"
   ]
  },
  {
   "cell_type": "code",
   "execution_count": 23,
   "metadata": {},
   "outputs": [],
   "source": [
    "import numpy as np\n",
    "import pandas as pd\n",
    "import scipy"
   ]
  },
  {
   "cell_type": "markdown",
   "metadata": {},
   "source": [
    "### Funções Auxiliares"
   ]
  },
  {
   "cell_type": "code",
   "execution_count": null,
   "metadata": {},
   "outputs": [],
   "source": [
    "# Verifica se a matriz é definida positiva\n",
    "def positiva_definida(matrix):\n",
    "    return np.all(np.linalg.eigvals(matrix) > 0)"
   ]
  },
  {
   "cell_type": "code",
   "execution_count": null,
   "metadata": {},
   "outputs": [],
   "source": [
    "# Verifica se a matriz é simétrica\n",
    "def simetrica(matrix):\n",
    "    return (matrix == matrix.T).any()"
   ]
  },
  {
   "cell_type": "code",
   "execution_count": null,
   "metadata": {},
   "outputs": [],
   "source": [
    "# Cálculo do Gradiente"
   ]
  },
  {
   "cell_type": "code",
   "execution_count": null,
   "metadata": {},
   "outputs": [],
   "source": [
    "# Cálculo da Hessiana"
   ]
  },
  {
   "cell_type": "markdown",
   "metadata": {},
   "source": [
    "### Método de Newton"
   ]
  },
  {
   "cell_type": "code",
   "execution_count": null,
   "metadata": {},
   "outputs": [],
   "source": [
    "y = np.array([2.40, 4.70, 12, 14.44, 26]).T\n",
    "dados = np.array([[1,1,1,1,1]\n",
    "                ,[68, 137, 315, 405,700]]).T\n",
    "x0 = np.array([-0.23421907,  0.03736067])\n",
    "x0 = np.array([3,3])\n",
    "-2*dados.T@y + 2 * dados.T@dados@x0"
   ]
  },
  {
   "cell_type": "code",
   "execution_count": null,
   "metadata": {},
   "outputs": [],
   "source": [
    "dados.T@dados"
   ]
  },
  {
   "cell_type": "code",
   "execution_count": null,
   "metadata": {},
   "outputs": [],
   "source": [
    "## Definindo ponto de partida, covariaveis e target\n",
    "y = np.array([2.40, 4.70, 12, 14.44, 26]).T\n",
    "dados = np.array([[1,1,1,1,1]\n",
    "                ,[68, 137, 315, 405,700]]).T\n",
    "x0 = np.array([-0.23421907,  0.03736067])\n",
    "print(x0.shape)\n",
    "print(dados.shape)\n",
    "print(y.shape)"
   ]
  },
  {
   "cell_type": "code",
   "execution_count": null,
   "metadata": {},
   "outputs": [],
   "source": [
    "## Definindo função\n",
    "def f(b,dados,y):\n",
    "  b.shape\n",
    "  dados.shape\n",
    "  y.shape\n",
    "  return (y - dados@b)**2"
   ]
  },
  {
   "cell_type": "code",
   "execution_count": null,
   "metadata": {},
   "outputs": [],
   "source": [
    "## Definindo gradiente da função\n",
    "def grad_f(b,dados,y):\n",
    "  return -2*dados.T@y + 2 * dados.T@dados@b"
   ]
  },
  {
   "cell_type": "code",
   "execution_count": null,
   "metadata": {},
   "outputs": [],
   "source": [
    "## Definindo hessiana da função\n",
    "def hess_f(dados):\n",
    "  return dados.T@dados"
   ]
  },
  {
   "cell_type": "code",
   "execution_count": null,
   "metadata": {},
   "outputs": [],
   "source": [
    "## Definindo função para cálculo do tamanho do passo\n",
    "## Especificamente para o caso do método gradiente\n",
    "def alpha(x):\n",
    "  return (grad_f(x).T @ grad_f(x))/(grad_f(x).T @ hess_f(x) @ grad_f(x))"
   ]
  },
  {
   "cell_type": "code",
   "execution_count": null,
   "metadata": {},
   "outputs": [],
   "source": [
    "## Definindo método de Newton\n",
    "def newton_method(Xk,dados,y):\n",
    "  i = 0\n",
    "  a = 1\n",
    "  while not(np.isclose(grad_f(Xk,dados,y),[0,0], atol=1e-02).all()):\n",
    "    p = np.linalg.inv(hess_f(dados)) @ grad_f(Xk,dados,y)\n",
    "    Xk = Xk - a * p\n",
    "    i += 1\n",
    "  print(f'Ponto de mínimo encontrado: {Xk}\\nNúmero de operações realizadas: {i}') "
   ]
  },
  {
   "cell_type": "code",
   "execution_count": null,
   "metadata": {},
   "outputs": [],
   "source": [
    "newton_method(x0,dados,y)"
   ]
  },
  {
   "cell_type": "markdown",
   "metadata": {},
   "source": [
    "### Método dos Gradientes Conjugados"
   ]
  },
  {
   "cell_type": "code",
   "execution_count": 38,
   "metadata": {},
   "outputs": [],
   "source": [
    "def get_least_square(y, x):\n",
    "    n_row = len(y)\n",
    "    n_covariables = len(x)\n",
    "\n",
    "    def f(beta):\n",
    "        total_square_sum = 0\n",
    "\n",
    "        for row in range(n_row):\n",
    "            square_sum = y[row] - beta[0]\n",
    "\n",
    "            for x_i in range(n_covariables):\n",
    "                square_sum -= x[x_i][row] * beta[x_i + 1]\n",
    "\n",
    "            total_square_sum += square_sum**2\n",
    "        return total_square_sum\n",
    "        \n",
    "    return f\n"
   ]
  },
  {
   "cell_type": "code",
   "execution_count": 45,
   "metadata": {},
   "outputs": [],
   "source": [
    "def gradiente_conjugado(y, x, x0):\n",
    "    least_squares_fun = get_least_square(y, x)\n",
    "    minimium = scipy.optimize.minimize(least_squares_fun, x0=x0, method=\"CG\")\n",
    "    return minimium"
   ]
  },
  {
   "cell_type": "code",
   "execution_count": 46,
   "metadata": {},
   "outputs": [
    {
     "data": {
      "text/plain": [
       "     fun: 0.4748933398957835\n",
       "     jac: array([-1.17868185e-05,  4.57355380e-03])\n",
       " message: 'Desired error not necessarily achieved due to precision loss.'\n",
       "    nfev: 98\n",
       "     nit: 4\n",
       "    njev: 29\n",
       "  status: 2\n",
       " success: False\n",
       "       x: array([-0.2342182 ,  0.03736067])"
      ]
     },
     "execution_count": 46,
     "metadata": {},
     "output_type": "execute_result"
    }
   ],
   "source": [
    "# TESTE\n",
    "y = np.array([2.40, 4.70, 12, 14.44, 26])\n",
    "x = np.array([[68, 137, 315, 405,700]])\n",
    "x0 = np.array([3, 3])\n",
    "\n",
    "gradiente_conjugado(y, x, x0)"
   ]
  },
  {
   "cell_type": "markdown",
   "metadata": {},
   "source": [
    "### Produção de uma Fábrica"
   ]
  },
  {
   "cell_type": "code",
   "execution_count": 16,
   "metadata": {},
   "outputs": [
    {
     "data": {
      "text/html": [
       "<div>\n",
       "<style scoped>\n",
       "    .dataframe tbody tr th:only-of-type {\n",
       "        vertical-align: middle;\n",
       "    }\n",
       "\n",
       "    .dataframe tbody tr th {\n",
       "        vertical-align: top;\n",
       "    }\n",
       "\n",
       "    .dataframe thead th {\n",
       "        text-align: right;\n",
       "    }\n",
       "</style>\n",
       "<table border=\"1\" class=\"dataframe\">\n",
       "  <thead>\n",
       "    <tr style=\"text-align: right;\">\n",
       "      <th></th>\n",
       "      <th>production</th>\n",
       "      <th>temperature</th>\n",
       "      <th>concentration</th>\n",
       "    </tr>\n",
       "  </thead>\n",
       "  <tbody>\n",
       "    <tr>\n",
       "      <th>0</th>\n",
       "      <td>180</td>\n",
       "      <td>80</td>\n",
       "      <td>10</td>\n",
       "    </tr>\n",
       "    <tr>\n",
       "      <th>1</th>\n",
       "      <td>203</td>\n",
       "      <td>100</td>\n",
       "      <td>10</td>\n",
       "    </tr>\n",
       "    <tr>\n",
       "      <th>2</th>\n",
       "      <td>222</td>\n",
       "      <td>120</td>\n",
       "      <td>10</td>\n",
       "    </tr>\n",
       "    <tr>\n",
       "      <th>3</th>\n",
       "      <td>234</td>\n",
       "      <td>140</td>\n",
       "      <td>10</td>\n",
       "    </tr>\n",
       "    <tr>\n",
       "      <th>4</th>\n",
       "      <td>261</td>\n",
       "      <td>160</td>\n",
       "      <td>10</td>\n",
       "    </tr>\n",
       "  </tbody>\n",
       "</table>\n",
       "</div>"
      ],
      "text/plain": [
       "   production  temperature  concentration\n",
       "0         180           80             10\n",
       "1         203          100             10\n",
       "2         222          120             10\n",
       "3         234          140             10\n",
       "4         261          160             10"
      ]
     },
     "execution_count": 16,
     "metadata": {},
     "output_type": "execute_result"
    }
   ],
   "source": [
    "production_data = pd.read_csv(\"production.csv\", index_col=0)\n",
    "production_data.head()"
   ]
  },
  {
   "cell_type": "markdown",
   "metadata": {},
   "source": [
    "## *Study on the Efficacy of Nosocomial Infection Control* (SENIC Data)"
   ]
  },
  {
   "cell_type": "markdown",
   "metadata": {},
   "source": [
    "Nesse caso, utilizaremos dados de um estudo sobre a eficácia no controle de infecção nosocomial, isto é, infecções adquiridas durante a internação ou em procedimentos hospitalares. "
   ]
  },
  {
   "cell_type": "code",
   "execution_count": 17,
   "metadata": {},
   "outputs": [
    {
     "data": {
      "text/html": [
       "<div>\n",
       "<style scoped>\n",
       "    .dataframe tbody tr th:only-of-type {\n",
       "        vertical-align: middle;\n",
       "    }\n",
       "\n",
       "    .dataframe tbody tr th {\n",
       "        vertical-align: top;\n",
       "    }\n",
       "\n",
       "    .dataframe thead th {\n",
       "        text-align: right;\n",
       "    }\n",
       "</style>\n",
       "<table border=\"1\" class=\"dataframe\">\n",
       "  <thead>\n",
       "    <tr style=\"text-align: right;\">\n",
       "      <th></th>\n",
       "      <th>tempo</th>\n",
       "      <th>idade</th>\n",
       "      <th>risco_infeccao</th>\n",
       "      <th>cultura</th>\n",
       "      <th>x_ray</th>\n",
       "      <th>numero_camas</th>\n",
       "      <th>afiliacao</th>\n",
       "      <th>regiao</th>\n",
       "      <th>census</th>\n",
       "      <th>enfermeiras</th>\n",
       "      <th>servicos</th>\n",
       "    </tr>\n",
       "    <tr>\n",
       "      <th>id</th>\n",
       "      <th></th>\n",
       "      <th></th>\n",
       "      <th></th>\n",
       "      <th></th>\n",
       "      <th></th>\n",
       "      <th></th>\n",
       "      <th></th>\n",
       "      <th></th>\n",
       "      <th></th>\n",
       "      <th></th>\n",
       "      <th></th>\n",
       "    </tr>\n",
       "  </thead>\n",
       "  <tbody>\n",
       "    <tr>\n",
       "      <th>1</th>\n",
       "      <td>7.13</td>\n",
       "      <td>55.7</td>\n",
       "      <td>4.1</td>\n",
       "      <td>9.0</td>\n",
       "      <td>39.6</td>\n",
       "      <td>279</td>\n",
       "      <td>2</td>\n",
       "      <td>4</td>\n",
       "      <td>207</td>\n",
       "      <td>241</td>\n",
       "      <td>60.0</td>\n",
       "    </tr>\n",
       "    <tr>\n",
       "      <th>2</th>\n",
       "      <td>8.82</td>\n",
       "      <td>58.2</td>\n",
       "      <td>1.6</td>\n",
       "      <td>3.8</td>\n",
       "      <td>51.7</td>\n",
       "      <td>80</td>\n",
       "      <td>2</td>\n",
       "      <td>2</td>\n",
       "      <td>51</td>\n",
       "      <td>52</td>\n",
       "      <td>40.0</td>\n",
       "    </tr>\n",
       "    <tr>\n",
       "      <th>3</th>\n",
       "      <td>8.34</td>\n",
       "      <td>56.9</td>\n",
       "      <td>2.7</td>\n",
       "      <td>8.1</td>\n",
       "      <td>74.0</td>\n",
       "      <td>107</td>\n",
       "      <td>2</td>\n",
       "      <td>3</td>\n",
       "      <td>82</td>\n",
       "      <td>54</td>\n",
       "      <td>20.0</td>\n",
       "    </tr>\n",
       "    <tr>\n",
       "      <th>4</th>\n",
       "      <td>8.95</td>\n",
       "      <td>53.7</td>\n",
       "      <td>5.6</td>\n",
       "      <td>18.9</td>\n",
       "      <td>122.8</td>\n",
       "      <td>147</td>\n",
       "      <td>2</td>\n",
       "      <td>4</td>\n",
       "      <td>53</td>\n",
       "      <td>148</td>\n",
       "      <td>40.0</td>\n",
       "    </tr>\n",
       "    <tr>\n",
       "      <th>5</th>\n",
       "      <td>11.20</td>\n",
       "      <td>56.5</td>\n",
       "      <td>5.7</td>\n",
       "      <td>34.5</td>\n",
       "      <td>88.9</td>\n",
       "      <td>180</td>\n",
       "      <td>2</td>\n",
       "      <td>1</td>\n",
       "      <td>134</td>\n",
       "      <td>151</td>\n",
       "      <td>40.0</td>\n",
       "    </tr>\n",
       "  </tbody>\n",
       "</table>\n",
       "</div>"
      ],
      "text/plain": [
       "    tempo  idade  risco_infeccao  cultura  x_ray  numero_camas  afiliacao  \\\n",
       "id                                                                          \n",
       "1    7.13   55.7             4.1      9.0   39.6           279          2   \n",
       "2    8.82   58.2             1.6      3.8   51.7            80          2   \n",
       "3    8.34   56.9             2.7      8.1   74.0           107          2   \n",
       "4    8.95   53.7             5.6     18.9  122.8           147          2   \n",
       "5   11.20   56.5             5.7     34.5   88.9           180          2   \n",
       "\n",
       "    regiao  census  enfermeiras  servicos  \n",
       "id                                         \n",
       "1        4     207          241      60.0  \n",
       "2        2      51           52      40.0  \n",
       "3        3      82           54      20.0  \n",
       "4        4      53          148      40.0  \n",
       "5        1     134          151      40.0  "
      ]
     },
     "execution_count": 17,
     "metadata": {},
     "output_type": "execute_result"
    }
   ],
   "source": [
    "senic_data = pd.read_csv(\"./SENIC.csv\", index_col=0)\n",
    "senic_data.head()"
   ]
  },
  {
   "cell_type": "markdown",
   "metadata": {},
   "source": [
    "Nesse problema de regressão linear múltipla, a **variável resposta** em estudo é o tempo que o paciente permanece no hospital. Desse modo, para entender o **tempo** de permanência, selecionaremos as seguintes covariáveis:\n",
    "* Idade do paciente;\n",
    "* Probabilidade do risco de infecção;\n",
    "* Número de Enfermeiras;\n",
    "* Cultura;\n",
    "* Número de Camas oferecidas.\n",
    "\n"
   ]
  },
  {
   "cell_type": "markdown",
   "metadata": {},
   "source": [
    "## Resultados Númericos"
   ]
  },
  {
   "cell_type": "markdown",
   "metadata": {},
   "source": [
    "## Conclusão"
   ]
  },
  {
   "cell_type": "markdown",
   "metadata": {},
   "source": [
    "## Referências"
   ]
  },
  {
   "cell_type": "markdown",
   "metadata": {},
   "source": [
    "* https://probability4datascience.com/\n",
    "\n",
    "* http://www.databookuw.com/\n",
    "\n",
    "* Applied Linear Statistical Models\n",
    "\n",
    "* INTRODUCTION TO LINEAR REGRESSION ANALYSIS"
   ]
  }
 ],
 "metadata": {
  "kernelspec": {
   "display_name": "Python 3 (ipykernel)",
   "language": "python",
   "name": "python3"
  },
  "language_info": {
   "codemirror_mode": {
    "name": "ipython",
    "version": 3
   },
   "file_extension": ".py",
   "mimetype": "text/x-python",
   "name": "python",
   "nbconvert_exporter": "python",
   "pygments_lexer": "ipython3",
   "version": "3.10.7"
  },
  "vscode": {
   "interpreter": {
    "hash": "8c2e15034f07720a3e57266749b805dbe4b964ae6e11e3a0ca2f3b08408e10de"
   }
  }
 },
 "nbformat": 4,
 "nbformat_minor": 2
}
