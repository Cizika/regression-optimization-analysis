{
 "cells": [
  {
   "cell_type": "markdown",
   "metadata": {},
   "source": [
    "# Problema de Otimização Não-Linear\n",
    "## Projeto da disciplina **SME5720 - Otimização Não-linear**\n",
    "### Estudo de caso da Regressão Linear"
   ]
  },
  {
   "cell_type": "markdown",
   "metadata": {},
   "source": [
    "## Membros\n",
    "\n",
    "* Eduardo Zaffari Monteiro - eduardozaffarimonteiro@usp.br - 12559490\n",
    "\n",
    "* Gustavo Silva de Oliveira - gustavo.oliveira03@usp.br - 12567231\n",
    "\n",
    "* Lucas Ivars Cadima Ciziks - luciziks@usp.br - 125599472\n",
    "\n",
    "* Pedro Henrique de Freitas Maçonetto - pedromaconetto@usp.br - 12675419"
   ]
  },
  {
   "cell_type": "markdown",
   "metadata": {},
   "source": [
    "## Introdução"
   ]
  },
  {
   "cell_type": "markdown",
   "metadata": {},
   "source": [
    "Explicar qual o problema escolhido e os métodos que foram implementados, bem como que tipo de problemas eles resolvem."
   ]
  },
  {
   "cell_type": "markdown",
   "metadata": {},
   "source": [
    "## Modelagem do Problema"
   ]
  },
  {
   "cell_type": "markdown",
   "metadata": {},
   "source": [
    "Descrever a modelagem matemática do problema e deverá ser apontado que tipo de método pode ser usado para resolvê-lo."
   ]
  },
  {
   "cell_type": "markdown",
   "metadata": {},
   "source": [
    "## Implementação"
   ]
  },
  {
   "cell_type": "code",
   "execution_count": 174,
   "metadata": {},
   "outputs": [],
   "source": [
    "import numpy as np\n",
    "import pandas as pd\n",
    "import scipy"
   ]
  },
  {
   "cell_type": "markdown",
   "metadata": {},
   "source": [
    "### Funções Auxiliares"
   ]
  },
  {
   "cell_type": "code",
   "execution_count": 175,
   "metadata": {},
   "outputs": [],
   "source": [
    "# Verifica se a matriz é definida positiva\n",
    "def positiva_definida(matrix):\n",
    "    return np.all(np.linalg.eigvals(matrix) > 0)"
   ]
  },
  {
   "cell_type": "code",
   "execution_count": 176,
   "metadata": {},
   "outputs": [],
   "source": [
    "# Verifica se a matriz é simétrica\n",
    "def simetrica(matrix):\n",
    "    return (matrix == matrix.T).any()"
   ]
  },
  {
   "cell_type": "code",
   "execution_count": 177,
   "metadata": {},
   "outputs": [],
   "source": [
    "# Cálculo do Gradiente"
   ]
  },
  {
   "cell_type": "code",
   "execution_count": 178,
   "metadata": {},
   "outputs": [],
   "source": [
    "# Cálculo da Hessiana"
   ]
  },
  {
   "cell_type": "markdown",
   "metadata": {},
   "source": [
    "### Método de Newton"
   ]
  },
  {
   "cell_type": "code",
   "execution_count": 179,
   "metadata": {},
   "outputs": [],
   "source": [
    "y = np.array([2.40, 4.70, 12, 14.44, 26]).T\n",
    "dados = np.array([[1,1,1,1,1]\n",
    "                ,[68, 137, 315, 405,700]]).T\n"
   ]
  },
  {
   "cell_type": "code",
   "execution_count": 181,
   "metadata": {},
   "outputs": [],
   "source": [
    "## Definindo ponto de partida, covariaveis e target\n",
    "y = np.array([2.40, 4.70, 12, 14.44, 26]).T\n",
    "dados = np.array([[1,1,1,1,1]\n",
    "                ,[68, 137, 315, 405,700]]).T\n",
    "x0 = np.array([3,3])"
   ]
  },
  {
   "cell_type": "code",
   "execution_count": 182,
   "metadata": {},
   "outputs": [],
   "source": [
    "## Definindo função\n",
    "def f(b,dados,y):\n",
    "  return y.T@y - 2*y.T@dados@b + b.T@dados.T@dados@b"
   ]
  },
  {
   "cell_type": "code",
   "execution_count": 183,
   "metadata": {},
   "outputs": [],
   "source": [
    "## Definindo gradiente da função\n",
    "def grad_f(b,dados,y):\n",
    "  return -2*dados.T@y + 2 * dados.T@dados@b"
   ]
  },
  {
   "cell_type": "code",
   "execution_count": 185,
   "metadata": {},
   "outputs": [],
   "source": [
    "## Definindo hessiana da função\n",
    "def hess_f(dados):\n",
    "  return (2)*(dados.T@dados)"
   ]
  },
  {
   "cell_type": "code",
   "execution_count": 190,
   "metadata": {},
   "outputs": [],
   "source": [
    "def newton_method(Xk):\n",
    "  i = 0\n",
    "  a = 1\n",
    "  while i < 5 and  not(np.isclose(grad_f(Xk,dados,y),[0,0], atol=1e-04).all()):\n",
    "    p = np.linalg.inv(hess_f(dados)) @ grad_f(Xk,dados,y)\n",
    "    Xk = Xk - a * p\n",
    "    i += 1\n",
    "  return Xk,i"
   ]
  },
  {
   "cell_type": "code",
   "execution_count": 191,
   "metadata": {},
   "outputs": [
    {
     "data": {
      "text/plain": [
       "(array([-0.23421907,  0.03736067]), 1)"
      ]
     },
     "execution_count": 191,
     "metadata": {},
     "output_type": "execute_result"
    }
   ],
   "source": [
    "newton_method(x0)"
   ]
  },
  {
   "cell_type": "markdown",
   "metadata": {},
   "source": [
    "### Método dos Gradientes Conjugados"
   ]
  },
  {
   "cell_type": "code",
   "execution_count": 192,
   "metadata": {},
   "outputs": [],
   "source": [
    "def get_least_square(y, x):\n",
    "    n_row = len(y)\n",
    "    n_covariables = len(x)\n",
    "\n",
    "    def f(beta):\n",
    "        total_square_sum = 0\n",
    "\n",
    "        for row in range(n_row):\n",
    "            square_sum = y[row] - beta[0]\n",
    "\n",
    "            for x_i in range(n_covariables):\n",
    "                square_sum -= x[x_i][row] * beta[x_i + 1]\n",
    "\n",
    "            total_square_sum += square_sum**2\n",
    "        return total_square_sum\n",
    "        \n",
    "    return f\n"
   ]
  },
  {
   "cell_type": "code",
   "execution_count": 193,
   "metadata": {},
   "outputs": [],
   "source": [
    "def gradiente_conjugado(y, x, x0):\n",
    "    least_squares_fun = get_least_square(y, x)\n",
    "    minimium = scipy.optimize.minimize(least_squares_fun, x0=x0, method=\"CG\")\n",
    "    return minimium"
   ]
  },
  {
   "cell_type": "code",
   "execution_count": 194,
   "metadata": {},
   "outputs": [
    {
     "ename": "AttributeError",
     "evalue": "module 'scipy' has no attribute 'optimize'",
     "output_type": "error",
     "traceback": [
      "\u001b[0;31m---------------------------------------------------------------------------\u001b[0m",
      "\u001b[0;31mAttributeError\u001b[0m                            Traceback (most recent call last)",
      "Input \u001b[0;32mIn [194]\u001b[0m, in \u001b[0;36m<cell line: 6>\u001b[0;34m()\u001b[0m\n\u001b[1;32m      3\u001b[0m x \u001b[38;5;241m=\u001b[39m np\u001b[38;5;241m.\u001b[39marray([[\u001b[38;5;241m68\u001b[39m, \u001b[38;5;241m137\u001b[39m, \u001b[38;5;241m315\u001b[39m, \u001b[38;5;241m405\u001b[39m,\u001b[38;5;241m700\u001b[39m]])\n\u001b[1;32m      4\u001b[0m x0 \u001b[38;5;241m=\u001b[39m np\u001b[38;5;241m.\u001b[39marray([\u001b[38;5;241m3\u001b[39m, \u001b[38;5;241m3\u001b[39m])\n\u001b[0;32m----> 6\u001b[0m \u001b[43mgradiente_conjugado\u001b[49m\u001b[43m(\u001b[49m\u001b[43my\u001b[49m\u001b[43m,\u001b[49m\u001b[43m \u001b[49m\u001b[43mx\u001b[49m\u001b[43m,\u001b[49m\u001b[43m \u001b[49m\u001b[43mx0\u001b[49m\u001b[43m)\u001b[49m\n",
      "Input \u001b[0;32mIn [193]\u001b[0m, in \u001b[0;36mgradiente_conjugado\u001b[0;34m(y, x, x0)\u001b[0m\n\u001b[1;32m      1\u001b[0m \u001b[38;5;28;01mdef\u001b[39;00m \u001b[38;5;21mgradiente_conjugado\u001b[39m(y, x, x0):\n\u001b[1;32m      2\u001b[0m     least_squares_fun \u001b[38;5;241m=\u001b[39m get_least_square(y, x)\n\u001b[0;32m----> 3\u001b[0m     minimium \u001b[38;5;241m=\u001b[39m \u001b[43mscipy\u001b[49m\u001b[38;5;241;43m.\u001b[39;49m\u001b[43moptimize\u001b[49m\u001b[38;5;241m.\u001b[39mminimize(least_squares_fun, x0\u001b[38;5;241m=\u001b[39mx0, method\u001b[38;5;241m=\u001b[39m\u001b[38;5;124m\"\u001b[39m\u001b[38;5;124mCG\u001b[39m\u001b[38;5;124m\"\u001b[39m)\n\u001b[1;32m      4\u001b[0m     \u001b[38;5;28;01mreturn\u001b[39;00m minimium\n",
      "\u001b[0;31mAttributeError\u001b[0m: module 'scipy' has no attribute 'optimize'"
     ]
    }
   ],
   "source": [
    "# TESTE\n",
    "y = np.array([2.40, 4.70, 12, 14.44, 26])\n",
    "x = np.array([[68, 137, 315, 405,700]])\n",
    "x0 = np.array([3, 3])\n",
    "\n",
    "gradiente_conjugado(y, x, x0)"
   ]
  },
  {
   "cell_type": "markdown",
   "metadata": {},
   "source": [
    "### Produção de uma Fábrica"
   ]
  },
  {
   "cell_type": "code",
   "execution_count": null,
   "metadata": {},
   "outputs": [],
   "source": [
    "production_data = pd.read_csv(\"production.csv\", index_col=0)\n",
    "production_data.head()"
   ]
  },
  {
   "cell_type": "markdown",
   "metadata": {},
   "source": [
    "## *Study on the Efficacy of Nosocomial Infection Control* (SENIC Data)"
   ]
  },
  {
   "cell_type": "markdown",
   "metadata": {},
   "source": [
    "Nesse caso, utilizaremos dados de um estudo sobre a eficácia no controle de infecção nosocomial, isto é, infecções adquiridas durante a internação ou em procedimentos hospitalares. "
   ]
  },
  {
   "cell_type": "code",
   "execution_count": null,
   "metadata": {},
   "outputs": [],
   "source": [
    "senic_data = pd.read_csv(\"./SENIC.csv\", index_col=0)\n",
    "senic_data.head()"
   ]
  },
  {
   "cell_type": "markdown",
   "metadata": {},
   "source": [
    "Nesse problema de regressão linear múltipla, a **variável resposta** em estudo é o tempo que o paciente permanece no hospital. Desse modo, para entender o **tempo** de permanência, selecionaremos as seguintes covariáveis:\n",
    "* Idade do paciente;\n",
    "* Probabilidade do risco de infecção;\n",
    "* Número de Enfermeiras;\n",
    "* Cultura;\n",
    "* Número de Camas oferecidas.\n",
    "\n"
   ]
  },
  {
   "cell_type": "markdown",
   "metadata": {},
   "source": [
    "## Resultados Númericos"
   ]
  },
  {
   "cell_type": "markdown",
   "metadata": {},
   "source": [
    "## Conclusão"
   ]
  },
  {
   "cell_type": "markdown",
   "metadata": {},
   "source": [
    "## Referências"
   ]
  },
  {
   "cell_type": "markdown",
   "metadata": {},
   "source": [
    "* https://probability4datascience.com/\n",
    "\n",
    "* http://www.databookuw.com/\n",
    "\n",
    "* Applied Linear Statistical Models\n",
    "\n",
    "* INTRODUCTION TO LINEAR REGRESSION ANALYSIS"
   ]
  }
 ],
 "metadata": {
  "kernelspec": {
   "display_name": "Python 3 (ipykernel)",
   "language": "python",
   "name": "python3"
  },
  "language_info": {
   "codemirror_mode": {
    "name": "ipython",
    "version": 3
   },
   "file_extension": ".py",
   "mimetype": "text/x-python",
   "name": "python",
   "nbconvert_exporter": "python",
   "pygments_lexer": "ipython3",
   "version": "3.9.12"
  },
  "vscode": {
   "interpreter": {
    "hash": "8c2e15034f07720a3e57266749b805dbe4b964ae6e11e3a0ca2f3b08408e10de"
   }
  }
 },
 "nbformat": 4,
 "nbformat_minor": 2
}
